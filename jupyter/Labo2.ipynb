{
 "cells": [
  {
   "cell_type": "code",
   "execution_count": null,
   "metadata": {},
   "outputs": [],
   "source": [
    "from nltk.corpus.reader.conll import ConllCorpusReader\n",
    "from nltk.tag.perceptron import PerceptronTagger\n",
    "\n",
    "root = \"../\"\n",
    "train = \"fr-ud-train.conllu3\"\n",
    "test = \"fr-ud-test.conllu3\"\n",
    "#ccorpus = ConllCorpusReader(\"../\", \".conll\", ('chunk', 'words', 'ignore', 'pos', 'ignore', 'ignore', 'ignore', 'ignore', 'ignore', 'ignore'))\n",
    "#taggedWords = ccorpus.tagged_words('fr-ud-test.conllu3')\n",
    "#taggedWords = ccorpus.tagged_words('fr-ud-test.conllu3')\n",
    "COLUMN_TYPES = ('ignore', \n",
    "                'words', \n",
    "                'ignore', \n",
    "                'pos', \n",
    "                'ignore', \n",
    "                'ignore', \n",
    "                'ignore', \n",
    "                'ignore', \n",
    "                'ignore', \n",
    "                'ignore')\n",
    "\n",
    "trainCorpus  = ConllCorpusReader(root=root, \n",
    "                                  fileids=train, \n",
    "                                  columntypes=COLUMN_TYPES, \n",
    "                                  encoding='utf8', \n",
    "                                  separator=\"\\t\", \n",
    "                                  tagset='universal')\n",
    "\n",
    "testCorpus  = ConllCorpusReader(root=root, \n",
    "                                  fileids=test, \n",
    "                                  columntypes=COLUMN_TYPES, \n",
    "                                  encoding='utf8', \n",
    "                                  separator=\"\\t\", \n",
    "                                  tagset='universal')\n",
    "\n",
    "trainWords = trainCorpus.tagged_sents()\n",
    "testWords = testCorpus.tagged_sents()\n",
    "print(trainWords)\n",
    "\n",
    "tagger = PerceptronTagger(load=False)\n",
    "tagger.train(trainWords)\n",
    "\n",
    "pretrain = PerceptronTagger()\n",
    "print(pretrain.evaluate(testWords))\n",
    "\n",
    "#tagger.train(taggedWords)\n",
    "#tagger.train([[('today','NN'),('is','VBZ'),('good','JJ'),('day','NN')]])\n",
    "#from nltk.corpus.reader import ConllChunkCorpusReader\n",
    "#mycorpus = ConllChunkCorpusReader(r\"../\", r\".*\\.txt\", ('NP','VP','PP'), tagset=\"wsj\", encoding=\"utf-8\")\n",
    "#for tree in mycorpus.chunked_sents(\"fr-ud-test.conllu3\"):\n",
    "#    print(tree) \n"
   ]
  },
  {
   "cell_type": "code",
   "execution_count": null,
   "metadata": {},
   "outputs": [],
   "source": []
  }
 ],
 "metadata": {
  "kernelspec": {
   "display_name": "Python 3",
   "language": "python",
   "name": "python3"
  },
  "language_info": {
   "codemirror_mode": {
    "name": "ipython",
    "version": 3
   },
   "file_extension": ".py",
   "mimetype": "text/x-python",
   "name": "python",
   "nbconvert_exporter": "python",
   "pygments_lexer": "ipython3",
   "version": "3.6.7"
  }
 },
 "nbformat": 4,
 "nbformat_minor": 2
}
